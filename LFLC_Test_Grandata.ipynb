{
 "cells": [
  {
   "cell_type": "markdown",
   "id": "b2de497c",
   "metadata": {},
   "source": [
    "# Luis Fernando López Corrales para Grandata\n",
    "_Ciudad de México, 05/05/2024_\n",
    "\n",
    "---"
   ]
  },
  {
   "cell_type": "code",
   "execution_count": 1,
   "id": "c0f3812a",
   "metadata": {},
   "outputs": [],
   "source": [
    "from pyspark.sql import SparkSession\n",
    "from pyspark.sql.functions import *\n",
    "from pyspark.sql.types import *\n",
    "import warnings\n",
    "warnings.filterwarnings(\"ignore\")\n",
    "import seaborn as sns\n",
    "import matplotlib.pyplot as plt\n",
    "import numpy as np\n",
    "import pandas as pd"
   ]
  },
  {
   "cell_type": "markdown",
   "id": "58a14b11",
   "metadata": {},
   "source": [
    "# 0. Creando Spark Session"
   ]
  },
  {
   "cell_type": "code",
   "execution_count": 2,
   "id": "07e3b150",
   "metadata": {},
   "outputs": [],
   "source": [
    "spark = SparkSession.builder \\\n",
    "    .appName(\"grandata\") \\\n",
    "    .master(\"local[*]\") \\\n",
    "    .config(\"spark.executor.memory\", \"4g\") \\\n",
    "    .config(\"spark.executor.cores\", \"3\") \\\n",
    "    .getOrCreate()"
   ]
  },
  {
   "cell_type": "code",
   "execution_count": 3,
   "id": "81ccee6b",
   "metadata": {},
   "outputs": [
    {
     "data": {
      "text/plain": [
       "[('spark.driver.host', '2ea8300684ea'),\n",
       " ('spark.executor.memory', '4g'),\n",
       " ('spark.app.startTime', '1714856926782'),\n",
       " ('spark.executor.id', 'driver'),\n",
       " ('spark.app.submitTime', '1714856926594'),\n",
       " ('spark.app.name', 'grandata'),\n",
       " ('spark.driver.extraJavaOptions',\n",
       "  '-Djava.net.preferIPv6Addresses=false -XX:+IgnoreUnrecognizedVMOptions --add-opens=java.base/java.lang=ALL-UNNAMED --add-opens=java.base/java.lang.invoke=ALL-UNNAMED --add-opens=java.base/java.lang.reflect=ALL-UNNAMED --add-opens=java.base/java.io=ALL-UNNAMED --add-opens=java.base/java.net=ALL-UNNAMED --add-opens=java.base/java.nio=ALL-UNNAMED --add-opens=java.base/java.util=ALL-UNNAMED --add-opens=java.base/java.util.concurrent=ALL-UNNAMED --add-opens=java.base/java.util.concurrent.atomic=ALL-UNNAMED --add-opens=java.base/sun.nio.ch=ALL-UNNAMED --add-opens=java.base/sun.nio.cs=ALL-UNNAMED --add-opens=java.base/sun.security.action=ALL-UNNAMED --add-opens=java.base/sun.util.calendar=ALL-UNNAMED --add-opens=java.security.jgss/sun.security.krb5=ALL-UNNAMED -Djdk.reflect.useDirectMethodHandle=false'),\n",
       " ('spark.driver.port', '44743'),\n",
       " ('spark.app.id', 'local-1714856927508'),\n",
       " ('spark.rdd.compress', 'True'),\n",
       " ('spark.serializer.objectStreamReset', '100'),\n",
       " ('spark.master', 'local[*]'),\n",
       " ('spark.submit.pyFiles', ''),\n",
       " ('spark.executor.cores', '3'),\n",
       " ('spark.submit.deployMode', 'client'),\n",
       " ('spark.ui.showConsoleProgress', 'true'),\n",
       " ('spark.executor.extraJavaOptions',\n",
       "  '-Djava.net.preferIPv6Addresses=false -XX:+IgnoreUnrecognizedVMOptions --add-opens=java.base/java.lang=ALL-UNNAMED --add-opens=java.base/java.lang.invoke=ALL-UNNAMED --add-opens=java.base/java.lang.reflect=ALL-UNNAMED --add-opens=java.base/java.io=ALL-UNNAMED --add-opens=java.base/java.net=ALL-UNNAMED --add-opens=java.base/java.nio=ALL-UNNAMED --add-opens=java.base/java.util=ALL-UNNAMED --add-opens=java.base/java.util.concurrent=ALL-UNNAMED --add-opens=java.base/java.util.concurrent.atomic=ALL-UNNAMED --add-opens=java.base/sun.nio.ch=ALL-UNNAMED --add-opens=java.base/sun.nio.cs=ALL-UNNAMED --add-opens=java.base/sun.security.action=ALL-UNNAMED --add-opens=java.base/sun.util.calendar=ALL-UNNAMED --add-opens=java.security.jgss/sun.security.krb5=ALL-UNNAMED -Djdk.reflect.useDirectMethodHandle=false')]"
      ]
     },
     "execution_count": 3,
     "metadata": {},
     "output_type": "execute_result"
    }
   ],
   "source": [
    "spark.sparkContext.getConf().getAll()"
   ]
  },
  {
   "cell_type": "markdown",
   "id": "223edec7",
   "metadata": {},
   "source": [
    "---"
   ]
  },
  {
   "cell_type": "markdown",
   "id": "f1ff22a2",
   "metadata": {},
   "source": [
    "# 1. Leyendo datos"
   ]
  },
  {
   "cell_type": "markdown",
   "id": "ad0facaf",
   "metadata": {},
   "source": [
    "### 1.0 Events"
   ]
  },
  {
   "cell_type": "code",
   "execution_count": 4,
   "id": "5e6a2e1b",
   "metadata": {},
   "outputs": [],
   "source": [
    "events_schema = StructType([\n",
    "StructField('hour',IntegerType()),\n",
    "StructField('calls',IntegerType()),\n",
    "StructField('seconds',IntegerType()),\n",
    "StructField('sms',IntegerType()),\n",
    "StructField('date',DateType()),\n",
    "StructField('region',IntegerType(),False),\n",
    "StructField('id_source',StringType(),False),\n",
    "StructField('id_destination',StringType(),False)\n",
    "])"
   ]
  },
  {
   "cell_type": "code",
   "execution_count": 5,
   "id": "667a54bb",
   "metadata": {},
   "outputs": [],
   "source": [
    "events_df = spark.read.format(\"csv\") \\\n",
    "    .option(\"header\", \"true\") \\\n",
    "    .option(\"dateFormat\", \"yyyMMdd\") \\\n",
    "    .schema(events_schema) \\\n",
    "    .load(\"data/events.csv\")"
   ]
  },
  {
   "cell_type": "code",
   "execution_count": 6,
   "id": "5594b09e",
   "metadata": {},
   "outputs": [
    {
     "name": "stdout",
     "output_type": "stream",
     "text": [
      "+----+-----+-------+---+----------+------+---------+--------------+\n",
      "|hour|calls|seconds|sms|      date|region|id_source|id_destination|\n",
      "+----+-----+-------+---+----------+------+---------+--------------+\n",
      "|  11|    1|     24|  0|2021-10-01|     5|      BF3|           374|\n",
      "|   1|    1|     51|  0|2021-10-01|     4|      9F5|           374|\n",
      "|  11|    1|      3|  0|2021-10-01|     6|      025|           374|\n",
      "+----+-----+-------+---+----------+------+---------+--------------+\n",
      "only showing top 3 rows\n",
      "\n",
      "root\n",
      " |-- hour: integer (nullable = true)\n",
      " |-- calls: integer (nullable = true)\n",
      " |-- seconds: integer (nullable = true)\n",
      " |-- sms: integer (nullable = true)\n",
      " |-- date: date (nullable = true)\n",
      " |-- region: integer (nullable = true)\n",
      " |-- id_source: string (nullable = true)\n",
      " |-- id_destination: string (nullable = true)\n",
      "\n"
     ]
    },
    {
     "data": {
      "text/plain": [
       "(None, None)"
      ]
     },
     "execution_count": 6,
     "metadata": {},
     "output_type": "execute_result"
    }
   ],
   "source": [
    "events_df.show(3), events_df.printSchema()"
   ]
  },
  {
   "cell_type": "markdown",
   "id": "9dc8bae8",
   "metadata": {},
   "source": [
    "### 1.1 Destinos gratuitos"
   ]
  },
  {
   "cell_type": "code",
   "execution_count": 7,
   "id": "26e04a92",
   "metadata": {},
   "outputs": [],
   "source": [
    "free_sms_df = spark.read.format(\"csv\") \\\n",
    "    .option(\"header\", \"true\") \\\n",
    "    .option(\"inferSchema\", \"true\") \\\n",
    "    .load(\"data/free_destinations.csv\")"
   ]
  },
  {
   "cell_type": "code",
   "execution_count": 8,
   "id": "7f9f3c6f",
   "metadata": {},
   "outputs": [
    {
     "name": "stdout",
     "output_type": "stream",
     "text": [
      "+---+\n",
      "| id|\n",
      "+---+\n",
      "|374|\n",
      "|D52|\n",
      "|861|\n",
      "+---+\n",
      "only showing top 3 rows\n",
      "\n",
      "root\n",
      " |-- id: string (nullable = true)\n",
      "\n"
     ]
    },
    {
     "data": {
      "text/plain": [
       "(None, None)"
      ]
     },
     "execution_count": 8,
     "metadata": {},
     "output_type": "execute_result"
    }
   ],
   "source": [
    "free_sms_df.show(3), free_sms_df.printSchema()"
   ]
  },
  {
   "cell_type": "markdown",
   "id": "5d20066b",
   "metadata": {},
   "source": [
    "---\n",
    "# 2. Aclaraciones\n",
    "- Aquellos registros con id_source o id_destination nulo deben ser descartados.\n",
    "- El dataset free_sms_destinations.csv.gz contiene los ID de los usuarios hacia quienes se puede enviar sms de manera gratuita (destinos gratuitos).\n",
    "- Los sms se facturan siempre al usuario origen, de la siguiente manera:\n",
    "    - 0.0, si el destino es gratuito.\n",
    "    - 1.5, si el evento se registra en las regiones 1 a 5.\n",
    "    - 2.0, si el evento se registra en las regiones 6 a 9."
   ]
  },
  {
   "cell_type": "code",
   "execution_count": 9,
   "id": "83d99148",
   "metadata": {},
   "outputs": [],
   "source": [
    "events_df = events_df.na.drop(how='any', thresh=None, subset=['id_source','id_destination'])"
   ]
  },
  {
   "cell_type": "code",
   "execution_count": 10,
   "id": "b3d408bc",
   "metadata": {},
   "outputs": [],
   "source": [
    "events_df_full = events_df.alias(\"a\").join(free_sms_df.alias(\"b\"),events_df.id_destination == free_sms_df.id,\"left\").select(\"a.*\",\"b.*\")"
   ]
  },
  {
   "cell_type": "code",
   "execution_count": 11,
   "id": "ce4ff547",
   "metadata": {},
   "outputs": [],
   "source": [
    "events_df_full = events_df_full.withColumn('invoice', \n",
    "                       when((col('region').between(1,5)) & (col('id').isNull()) , 1.5)\n",
    "                       .when((col('region').between(6,9)) & (col('id').isNull()), 2.0)\n",
    "                       .otherwise(0.0)\n",
    "                      )"
   ]
  },
  {
   "cell_type": "code",
   "execution_count": 12,
   "id": "1dbd0bd8",
   "metadata": {},
   "outputs": [
    {
     "name": "stdout",
     "output_type": "stream",
     "text": [
      "+----+-----+-------+---+----------+------+---------+--------------+---+-------+\n",
      "|hour|calls|seconds|sms|      date|region|id_source|id_destination| id|invoice|\n",
      "+----+-----+-------+---+----------+------+---------+--------------+---+-------+\n",
      "|  11|    1|     24|  0|2021-10-01|     5|      BF3|           374|374|    0.0|\n",
      "|   1|    1|     51|  0|2021-10-01|     4|      9F5|           374|374|    0.0|\n",
      "+----+-----+-------+---+----------+------+---------+--------------+---+-------+\n",
      "only showing top 2 rows\n",
      "\n",
      "+----+-----+-------+---+----------+------+---------+--------------+----+-------+\n",
      "|hour|calls|seconds|sms|      date|region|id_source|id_destination|  id|invoice|\n",
      "+----+-----+-------+---+----------+------+---------+--------------+----+-------+\n",
      "|  17|    2|     51|  0|2021-10-01|     5|      80A|           260|NULL|    1.5|\n",
      "|  20|    1|    198|  0|2021-10-01|     5|      0E1|           26F|NULL|    1.5|\n",
      "+----+-----+-------+---+----------+------+---------+--------------+----+-------+\n",
      "only showing top 2 rows\n",
      "\n",
      "+----+-----+-------+---+----------+------+---------+--------------+----+-------+\n",
      "|hour|calls|seconds|sms|      date|region|id_source|id_destination|  id|invoice|\n",
      "+----+-----+-------+---+----------+------+---------+--------------+----+-------+\n",
      "|   8|    1|    189|  0|2021-10-01|     7|      395|           A7C|NULL|    2.0|\n",
      "|   9|    1|    636|  0|2021-10-01|     7|      D61|           A7C|NULL|    2.0|\n",
      "+----+-----+-------+---+----------+------+---------+--------------+----+-------+\n",
      "only showing top 2 rows\n",
      "\n"
     ]
    },
    {
     "data": {
      "text/plain": [
       "(None, None, None)"
      ]
     },
     "execution_count": 12,
     "metadata": {},
     "output_type": "execute_result"
    }
   ],
   "source": [
    "events_df_full.where(\"invoice = 0.0\").show(2), events_df_full.where(\"invoice == 1.5\").show(2),\\\n",
    "events_df_full.where(\"invoice == 2.0\").show(2)"
   ]
  },
  {
   "cell_type": "markdown",
   "id": "efab548c",
   "metadata": {},
   "source": [
    "# 3. Ejercicios"
   ]
  },
  {
   "cell_type": "markdown",
   "id": "e19425df",
   "metadata": {},
   "source": [
    "### a) Calcular el monto total que facturará el proveedor del servicio por envíos de sms."
   ]
  },
  {
   "cell_type": "code",
   "execution_count": 13,
   "id": "1cbc3a98",
   "metadata": {},
   "outputs": [
    {
     "name": "stdout",
     "output_type": "stream",
     "text": [
      "La facturación total por el servicio en el periodo que abarcan los datos es de: 1696022.5 $\n"
     ]
    }
   ],
   "source": [
    "print(\"La facturación total por el servicio en el periodo que abarcan los datos es de:\",\\\n",
    "      events_df_full.select(sum(events_df_full.invoice)).collect()[0][0],\"$\")"
   ]
  },
  {
   "cell_type": "markdown",
   "id": "3ea74b64",
   "metadata": {},
   "source": [
    "### b) Generar un dataset que contenga los ID de los 100 usuarios con mayor facturación por envío de sms y el monto total a facturar a cada uno. Además del ID, incluir el ID hasheado mediante el algoritmo MD5. Escribir el dataset en formato parquet con compresión gzip."
   ]
  },
  {
   "cell_type": "code",
   "execution_count": 14,
   "id": "3c4a6ef1",
   "metadata": {},
   "outputs": [],
   "source": [
    "df_b = events_df_full.groupBy(\"id_source\").agg(\n",
    "    {\"invoice\": \"sum\", \"id_source\": \"md5\"}\n",
    ").orderBy(\"sum(invoice)\", ascending=False).limit(100)"
   ]
  },
  {
   "cell_type": "code",
   "execution_count": 15,
   "id": "4e8ce5e7",
   "metadata": {},
   "outputs": [
    {
     "name": "stdout",
     "output_type": "stream",
     "text": [
      "+---------+--------------------+------------+\n",
      "|id_source|      md5(id_source)|sum(invoice)|\n",
      "+---------+--------------------+------------+\n",
      "|      4D3|911914c7729eedbdf...|     18573.0|\n",
      "|      76D|bd180b7811395cbce...|     13508.0|\n",
      "|      07E|14a0660ae2f5d1868...|      4070.0|\n",
      "|      541|16c222aa19898e505...|      1707.0|\n",
      "|      B86|bc97b32ee2abb9c18...|      1292.5|\n",
      "|      3AE|6a57072949dbc409c...|      1026.0|\n",
      "|      1BD|f5a45e33602ea62f9...|      1023.5|\n",
      "|      3E0|e9d076deb3451cc49...|      1015.5|\n",
      "|      D29|1b2e80021b5fc82bf...|       892.0|\n",
      "|      E6F|159e1f3d6ff0e7c3c...|       714.5|\n",
      "+---------+--------------------+------------+\n",
      "only showing top 10 rows\n",
      "\n"
     ]
    }
   ],
   "source": [
    "df_b.show(10)"
   ]
  },
  {
   "cell_type": "code",
   "execution_count": 16,
   "id": "8c41823c",
   "metadata": {},
   "outputs": [],
   "source": [
    "df_b.write.mode(\"overwrite\").option(\"compression\", \"gzip\").parquet(\"top_100\")"
   ]
  },
  {
   "cell_type": "markdown",
   "id": "8eb363b1",
   "metadata": {},
   "source": [
    "### c) Graficar un histograma de cantidad de llamadas que se realizan por hora del día."
   ]
  },
  {
   "cell_type": "code",
   "execution_count": 17,
   "id": "24b51399-96c7-4f6b-89e4-7e841b63ae9d",
   "metadata": {},
   "outputs": [],
   "source": [
    "plot_df = events_df.select(\"hour\",\"calls\").toPandas()"
   ]
  },
  {
   "cell_type": "code",
   "execution_count": 28,
   "id": "3b885ba3-69f6-44ee-89f6-2e929012071a",
   "metadata": {},
   "outputs": [
    {
     "data": {
      "image/png": "[encoded data removed]",
      "text/plain": [
       "<Figure size 640x480 with 1 Axes>"
      ]
     },
     "metadata": {},
     "output_type": "display_data"
    }
   ],
   "source": [
    "sns.histplot(plot_df,x=\"hour\", y=\"calls\")\n",
    "plt.show()"
   ]
  },
  {
   "cell_type": "code",
   "execution_count": 33,
   "id": "07eed1ff-05f4-4552-987f-ecce84c1c948",
   "metadata": {},
   "outputs": [
    {
     "data": {
      "text/plain": [
       "<Figure size 640x480 with 0 Axes>"
      ]
     },
     "metadata": {},
     "output_type": "display_data"
    }
   ],
   "source": [
    "plt.savefig(\"work/hours-calls-histogram.png\")"
   ]
  },
  {
   "cell_type": "code",
   "execution_count": 32,
   "id": "177b2e21",
   "metadata": {},
   "outputs": [],
   "source": [
    "spark.stop()"
   ]
  }
 ],
 "metadata": {
  "kernelspec": {
   "display_name": "Python 3 (ipykernel)",
   "language": "python",
   "name": "python3"
  },
  "language_info": {
   "codemirror_mode": {
    "name": "ipython",
    "version": 3
   },
   "file_extension": ".py",
   "mimetype": "text/x-python",
   "name": "python",
   "nbconvert_exporter": "python",
   "pygments_lexer": "ipython3",
   "version": "3.11.6"
  }
 },
 "nbformat": 4,
 "nbformat_minor": 5
}
